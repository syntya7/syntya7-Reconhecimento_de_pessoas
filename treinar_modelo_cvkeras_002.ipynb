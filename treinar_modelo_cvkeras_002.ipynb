{
  "cells": [
    {
      "cell_type": "code",
      "source": [
        "from google.colab import drive\n",
        "drive.mount('/content/drive')"
      ],
      "metadata": {
        "colab": {
          "base_uri": "https://localhost:8080/"
        },
        "id": "8ZDrQ73dnSfM",
        "outputId": "0d274e2b-8618-4707-90e2-778bb3208413"
      },
      "execution_count": 1,
      "outputs": [
        {
          "output_type": "stream",
          "name": "stdout",
          "text": [
            "Mounted at /content/drive\n"
          ]
        }
      ]
    },
    {
      "cell_type": "code",
      "execution_count": null,
      "metadata": {
        "id": "lLkWQeMRnRDw"
      },
      "outputs": [],
      "source": [
        "# Importando bibliotecas necessárias\n",
        "from tensorflow.keras.preprocessing.image import ImageDataGenerator\n",
        "from tensorflow.keras.models import Sequential\n",
        "from tensorflow.keras.layers import Conv2D, MaxPooling2D, Flatten, Dense, Dropout\n",
        "from tensorflow.keras.preprocessing import image\n",
        "import numpy as np\n",
        "\n",
        "# Definindo o gerador de dados\n",
        "datagen = ImageDataGenerator(\n",
        "    rescale=1./255,         # Normalização\n",
        "    validation_split=0.2    # Separar 20% para validação\n",
        ")\n",
        "\n",
        "# Carregar os dados de treino\n",
        "train_data = datagen.flow_from_directory(\n",
        "    '/content/drive/MyDrive/Colab Notebooks/AULA_10/dataset',             # Caminho para o dataset\n",
        "    target_size=(128, 128), # Redimensionar as imagens\n",
        "    batch_size=32,          # Número de amostras por batch\n",
        "    class_mode='categorical', # Classificação multiclasses\n",
        "    subset='training'       # Conjunto de treinamento\n",
        ")\n",
        "\n",
        "# Carregar os dados de validação\n",
        "val_data = datagen.flow_from_directory(\n",
        "    '/content/drive/MyDrive/Colab Notebooks/AULA_10/dataset',\n",
        "    target_size=(128, 128),\n",
        "    batch_size=32,\n",
        "    class_mode='categorical',\n",
        "    subset='validation'\n",
        ")\n",
        "\n",
        "# Construindo o modelo\n",
        "model = Sequential([\n",
        "    Conv2D(32, (3, 3), activation='relu', input_shape=(128, 128, 3)),\n",
        "    MaxPooling2D(pool_size=(2, 2)),\n",
        "\n",
        "    Conv2D(64, (3, 3), activation='relu'),\n",
        "    MaxPooling2D(pool_size=(2, 2)),\n",
        "\n",
        "    Conv2D(128, (3, 3), activation='relu'),\n",
        "    MaxPooling2D(pool_size=(2, 2)),\n",
        "\n",
        "    Flatten(),\n",
        "    Dense(128, activation='relu'),\n",
        "    Dropout(0.5),\n",
        "\n",
        "    Dense(6, activation='softmax')  # 15 classes (uma para cada pessoa)\n",
        "])\n",
        "\n",
        "# Compilando o modelo\n",
        "model.compile(optimizer='adam', loss='categorical_crossentropy', metrics=['accuracy'])\n",
        "\n",
        "# Treinando o modelo\n",
        "history = model.fit(\n",
        "    train_data,\n",
        "    epochs=25,\n",
        "    validation_data=val_data\n",
        ")\n",
        "\n",
        "# Salvando a estrutura do modelo\n",
        "model_structure = model.to_json()\n",
        "with open('modelo_classificacao_pessoas.json', 'w') as json_file:\n",
        "    json_file.write(model_structure)\n",
        "\n",
        "# Salvando os pesos do modelo\n",
        "model.save_weights('modelo_classificacao_pessoas.weights.h5')\n",
        "\n",
        "# Salvando os rótulos em um arquivo TXT\n",
        "labels = train_data.class_indices  # Obter os rótulos do dataset\n",
        "with open('rotulos.txt', 'w') as txt_file:\n",
        "    for label, index in labels.items():\n",
        "        txt_file.write(f\"{label}: {index}\\n\")  # Salva o rótulo e seu índice"
      ]
    }
  ],
  "metadata": {
    "kernelspec": {
      "display_name": "Python 3",
      "name": "python3"
    },
    "language_info": {
      "codemirror_mode": {
        "name": "ipython",
        "version": 3
      },
      "file_extension": ".py",
      "mimetype": "text/x-python",
      "name": "python",
      "nbconvert_exporter": "python",
      "pygments_lexer": "ipython3",
      "version": "3.11.5"
    },
    "colab": {
      "provenance": [],
      "gpuType": "T4"
    },
    "accelerator": "GPU"
  },
  "nbformat": 4,
  "nbformat_minor": 0
}